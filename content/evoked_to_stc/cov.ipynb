{
 "cells": [
  {
   "cell_type": "code",
   "execution_count": null,
   "metadata": {},
   "outputs": [],
   "source": [
    "%matplotlib inline"
   ]
  },
  {
   "cell_type": "markdown",
   "metadata": {},
   "source": [
    "\n",
    "\n",
    "Computing a covariance matrix\n",
    "=============================\n",
    "\n",
    "Many methods in MNE, including source estimation and some classification\n",
    "algorithms, require covariance estimations from the recordings.\n",
    "In this tutorial we cover the basics of sensor covariance computations and\n",
    "construct a noise covariance matrix that can be used when computing the\n",
    "minimum-norm inverse solution. For more information, see `BABDEEEB`.\n",
    "\n"
   ]
  },
  {
   "cell_type": "code",
   "execution_count": null,
   "metadata": {},
   "outputs": [],
   "source": [
    "import os.path as op\n",
    "\n",
    "import mne\n",
    "from mne.datasets import sample"
   ]
  },
  {
   "cell_type": "markdown",
   "metadata": {},
   "source": [
    "Source estimation method such as MNE require a noise estimations from the\n",
    "recordings. In this tutorial we cover the basics of noise covariance and\n",
    "construct a noise covariance matrix that can be used when computing the\n",
    "inverse solution. For more information, see `BABDEEEB`.\n",
    "\n"
   ]
  },
  {
   "cell_type": "code",
   "execution_count": null,
   "metadata": {},
   "outputs": [],
   "source": [
    "data_path = sample.data_path()\n",
    "raw_empty_room_fname = op.join(\n",
    "    data_path, 'MEG', 'sample', 'ernoise_raw.fif')\n",
    "raw_empty_room = mne.io.read_raw_fif(raw_empty_room_fname)\n",
    "raw_fname = op.join(data_path, 'MEG', 'sample', 'sample_audvis_raw.fif')\n",
    "raw = mne.io.read_raw_fif(raw_fname)\n",
    "raw.set_eeg_reference('average', projection=True)\n",
    "raw.info['bads'] += ['EEG 053']  # bads + 1 more"
   ]
  },
  {
   "cell_type": "markdown",
   "metadata": {},
   "source": [
    "The definition of noise depends on the paradigm. In MEG it is quite common\n",
    "to use empty room measurements for the estimation of sensor noise. However if\n",
    "you are dealing with evoked responses, you might want to also consider\n",
    "resting state brain activity as noise.\n",
    "First we compute the noise using empty room recording. Note that you can also\n",
    "use only a part of the recording with tmin and tmax arguments. That can be\n",
    "useful if you use resting state as a noise baseline. Here we use the whole\n",
    "empty room recording to compute the noise covariance (tmax=None is the same\n",
    "as the end of the recording, see :func:`mne.compute_raw_covariance`).\n",
    "\n",
    "Keep in mind that you want to match your empty room dataset to your\n",
    "actual MEG data, processing-wise. Ensure that filters\n",
    "are all the same and if you use ICA, apply it to your empty-room and subject\n",
    "data equivalently. In this case we did not filter the data and\n",
    "we don't use ICA. However, we do have bad channels and projections in\n",
    "the MEG data, and, hence, we want to make sure they get stored in the\n",
    "covariance object.\n",
    "\n"
   ]
  },
  {
   "cell_type": "code",
   "execution_count": null,
   "metadata": {},
   "outputs": [],
   "source": [
    "raw_empty_room.info['bads'] = [\n",
    "    bb for bb in raw.info['bads'] if 'EEG' not in bb]\n",
    "raw_empty_room.add_proj(\n",
    "    [pp.copy() for pp in raw.info['projs'] if 'EEG' not in pp['desc']])\n",
    "\n",
    "noise_cov = mne.compute_raw_covariance(\n",
    "    raw_empty_room, tmin=0, tmax=None)"
   ]
  },
  {
   "cell_type": "markdown",
   "metadata": {},
   "source": [
    "Now that you have the covariance matrix in an MNE-Python object you can\n",
    "save it to a file with :func:`mne.write_cov`. Later you can read it back\n",
    "using :func:`mne.read_cov`.\n",
    "\n",
    "You can also use the pre-stimulus baseline to estimate the noise covariance.\n",
    "First we have to construct the epochs. When computing the covariance, you\n",
    "should use baseline correction when constructing the epochs. Otherwise the\n",
    "covariance matrix will be inaccurate. In MNE this is done by default, but\n",
    "just to be sure, we define it here manually.\n",
    "\n"
   ]
  },
  {
   "cell_type": "code",
   "execution_count": null,
   "metadata": {},
   "outputs": [],
   "source": [
    "events = mne.find_events(raw)\n",
    "epochs = mne.Epochs(raw, events, event_id=1, tmin=-0.2, tmax=0.5,\n",
    "                    baseline=(-0.2, 0.0), decim=3,  # we'll decimate for speed\n",
    "                    verbose='error')  # and ignore the warning about aliasing"
   ]
  },
  {
   "cell_type": "markdown",
   "metadata": {},
   "source": [
    "Note that this method also attenuates any activity in your\n",
    "source estimates that resemble the baseline, if you like it or not.\n",
    "\n"
   ]
  },
  {
   "cell_type": "code",
   "execution_count": null,
   "metadata": {},
   "outputs": [],
   "source": [
    "noise_cov_baseline = mne.compute_covariance(epochs, tmax=0)"
   ]
  },
  {
   "cell_type": "markdown",
   "metadata": {},
   "source": [
    "Plot the covariance matrices\n",
    "----------------------------\n",
    "\n",
    "Try setting proj to False to see the effect. Notice that the projectors in\n",
    "epochs are already applied, so ``proj`` parameter has no effect.\n",
    "\n"
   ]
  },
  {
   "cell_type": "code",
   "execution_count": null,
   "metadata": {},
   "outputs": [],
   "source": [
    "noise_cov.plot(raw_empty_room.info, proj=True)\n",
    "noise_cov_baseline.plot(epochs.info, proj=True)"
   ]
  },
  {
   "cell_type": "markdown",
   "metadata": {},
   "source": [
    "How should I regularize the covariance matrix?\n",
    "----------------------------------------------\n",
    "\n",
    "The estimated covariance can be numerically\n",
    "unstable and tends to induce correlations between estimated source amplitudes\n",
    "and the number of samples available. The MNE manual therefore suggests to\n",
    "regularize the noise covariance matrix (see\n",
    "`cov_regularization`), especially if only few samples are available.\n",
    "Unfortunately it is not easy to tell the effective number of samples, hence,\n",
    "to choose the appropriate regularization.\n",
    "In MNE-Python, regularization is done using advanced regularization methods\n",
    "described in [1]_. For this the 'auto' option can be used. With this\n",
    "option cross-validation will be used to learn the optimal regularization:\n",
    "\n"
   ]
  },
  {
   "cell_type": "code",
   "execution_count": null,
   "metadata": {},
   "outputs": [],
   "source": [
    "noise_cov_reg = mne.compute_covariance(epochs, tmax=0., method='auto',\n",
    "                                       rank=None)"
   ]
  },
  {
   "cell_type": "markdown",
   "metadata": {},
   "source": [
    "This procedure evaluates the noise covariance quantitatively by how well it\n",
    "whitens the data using the\n",
    "negative log-likelihood of unseen data. The final result can also be visually\n",
    "inspected.\n",
    "Under the assumption that the baseline does not contain a systematic signal\n",
    "(time-locked to the event of interest), the whitened baseline signal should\n",
    "be follow a multivariate Gaussian distribution, i.e.,\n",
    "whitened baseline signals should be between -1.96 and 1.96 at a given time\n",
    "sample.\n",
    "Based on the same reasoning, the expected value for the global field power\n",
    "(GFP) is 1 (calculation of the GFP should take into account the true degrees\n",
    "of freedom, e.g. ``ddof=3`` with 2 active SSP vectors):\n",
    "\n"
   ]
  },
  {
   "cell_type": "code",
   "execution_count": null,
   "metadata": {},
   "outputs": [],
   "source": [
    "evoked = epochs.average()\n",
    "evoked.plot_white(noise_cov_reg, time_unit='s')"
   ]
  },
  {
   "cell_type": "markdown",
   "metadata": {},
   "source": [
    "This plot displays both, the whitened evoked signals for each channels and\n",
    "the whitened GFP. The numbers in the GFP panel represent the estimated rank\n",
    "of the data, which amounts to the effective degrees of freedom by which the\n",
    "squared sum across sensors is divided when computing the whitened GFP.\n",
    "The whitened GFP also helps detecting spurious late evoked components which\n",
    "can be the consequence of over- or under-regularization.\n",
    "\n",
    "Note that if data have been processed using signal space separation\n",
    "(SSS) [2]_,\n",
    "gradiometers and magnetometers will be displayed jointly because both are\n",
    "reconstructed from the same SSS basis vectors with the same numerical rank.\n",
    "This also implies that both sensor types are not any longer statistically\n",
    "independent.\n",
    "These methods for evaluation can be used to assess model violations.\n",
    "Additional\n",
    "introductory materials can be found `here <https://goo.gl/ElWrxe>`_.\n",
    "\n",
    "For expert use cases or debugging the alternative estimators can also be\n",
    "compared (see\n",
    "`sphx_glr_auto_examples_visualization_plot_evoked_whitening.py`) and\n",
    "`sphx_glr_auto_examples_inverse_plot_covariance_whitening_dspm.py`):\n",
    "\n"
   ]
  },
  {
   "cell_type": "code",
   "execution_count": null,
   "metadata": {},
   "outputs": [],
   "source": [
    "noise_covs = mne.compute_covariance(\n",
    "    epochs, tmax=0., method=('empirical', 'shrunk'), return_estimators=True,\n",
    "    rank=None)\n",
    "evoked.plot_white(noise_covs, time_unit='s')"
   ]
  },
  {
   "cell_type": "markdown",
   "metadata": {},
   "source": [
    "This will plot the whitened evoked for the optimal estimator and display the\n",
    "GFPs for all estimators as separate lines in the related panel.\n",
    "\n"
   ]
  },
  {
   "cell_type": "markdown",
   "metadata": {},
   "source": [
    "Finally, let's have a look at the difference between empty room and\n",
    "event related covariance.\n",
    "\n"
   ]
  },
  {
   "cell_type": "code",
   "execution_count": null,
   "metadata": {},
   "outputs": [],
   "source": [
    "evoked_meg = evoked.copy().pick_types(meg=True, eeg=False)\n",
    "noise_cov_meg = mne.pick_channels_cov(noise_cov_baseline, evoked_meg.ch_names)\n",
    "noise_cov['method'] = 'empty_room'\n",
    "noise_cov_meg['method'] = 'baseline'\n",
    "\n",
    "evoked_meg.plot_white([noise_cov_meg, noise_cov], time_unit='s')"
   ]
  },
  {
   "cell_type": "markdown",
   "metadata": {},
   "source": [
    "Based on the negative log-likelihood, the baseline covariance\n",
    "seems more appropriate.\n",
    "\n"
   ]
  },
  {
   "cell_type": "markdown",
   "metadata": {},
   "source": [
    "References\n",
    "----------\n",
    "\n",
    ".. [1] Engemann D. and Gramfort A. (2015) Automated model selection in\n",
    "    covariance estimation and spatial whitening of MEG and EEG signals,\n",
    "    vol. 108, 328-342, NeuroImage.\n",
    "\n",
    ".. [2] Taulu, S., Simola, J., Kajola, M., 2005. Applications of the signal\n",
    "   space separation method. IEEE Trans. Signal Proc. 53, 3359-3372.\n",
    "\n"
   ]
  }
 ],
 "metadata": {
  "kernelspec": {
   "display_name": "Python 3",
   "language": "python",
   "name": "python3"
  },
  "language_info": {
   "codemirror_mode": {
    "name": "ipython",
    "version": 3
   },
   "file_extension": ".py",
   "mimetype": "text/x-python",
   "name": "python",
   "nbconvert_exporter": "python",
   "pygments_lexer": "ipython3",
   "version": "3.6.7"
  }
 },
 "nbformat": 4,
 "nbformat_minor": 1
}
